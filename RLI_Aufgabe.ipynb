{
 "cells": [
  {
   "cell_type": "markdown",
   "id": "6c4ff2e2",
   "metadata": {},
   "source": [
    "# Aufgabe für das Bewerbungsgespräch\n",
    "1. Importiere die mitgelieferte CSV-Datei in ein Pandas DataFrame, wobei du den Spaltennamen B in „Energiequelle“, den Spaltennamen C in „Leistung in kW“ umbenennst und die Spalte A löschst. In der CSV-Datei entspricht jeder Eintrag einer Erzeugungsanlage.\n",
    "\n",
    "_Wir nutzen die read_csv Funktion von pandas um diese Aufgabe direkt zu Lösen:_ \n",
    "- Zuerst definierent wir den Pfad um die CSV-Datein einzulesen\n",
    "- Wir definieren \";\" als separator damit die Datei richtig eingelesen wird\n",
    "- Wir filtern die erste Spalte raus mit \"usecols\" und benennen die Spalten die wir nutzen mit \"names\"\n",
    "- Wir definieren \"header = 0\" damit die ehemaligen Spaltennamen nicht auftreten\""
   ]
  },
  {
   "cell_type": "code",
   "execution_count": 1,
   "id": "4d1b56ad",
   "metadata": {},
   "outputs": [
    {
     "name": "stdout",
     "output_type": "stream",
     "text": [
      "     Energiequelle Leistung in kW\n",
      "0             wind            850\n",
      "1             wind            850\n",
      "2             wind            850\n",
      "3             wind            850\n",
      "4             wind            850\n",
      "...            ...            ...\n",
      "5102          wind           1.65\n",
      "5103          wind            850\n",
      "5104          wind           1.65\n",
      "5105          wind            850\n",
      "5106          wind            850\n",
      "\n",
      "[5107 rows x 2 columns]\n"
     ]
    }
   ],
   "source": [
    "import pandas as pd\n",
    "\n",
    "names = [\"Energiequelle\", \"Leistung in kW\"]\n",
    "data = pd.read_csv(\"data/2024-02-22 Data Bewerbungsaufgabe.csv\", sep = \";\", usecols = [1,2], names = names, header = 0)\n",
    "\n",
    "print(data)"
   ]
  },
  {
   "cell_type": "markdown",
   "id": "22b90c25",
   "metadata": {},
   "source": [
    "2. Sortiere das DataFrame nach den jeweiligen Energiequellen.\n",
    "\n",
    "_Hier wird das DataFrame sortiert mit der pandas Funktion \"sort_values\"_"
   ]
  },
  {
   "cell_type": "code",
   "execution_count": 2,
   "id": "eaa2e438",
   "metadata": {},
   "outputs": [
    {
     "name": "stdout",
     "output_type": "stream",
     "text": [
      "     Energiequelle Leistung in kW\n",
      "4652        biogas            yes\n",
      "3022        biogas            NaN\n",
      "3021        biogas            NaN\n",
      "3020        biogas            NaN\n",
      "3018        biogas            NaN\n",
      "...            ...            ...\n",
      "2994           NaN            NaN\n",
      "2995           NaN            NaN\n",
      "3334           NaN            NaN\n",
      "3529           NaN            NaN\n",
      "4549           NaN            NaN\n",
      "\n",
      "[5107 rows x 2 columns]\n"
     ]
    }
   ],
   "source": [
    "data = data.sort_values('Energiequelle')\n",
    "print(data)"
   ]
  },
  {
   "cell_type": "markdown",
   "id": "7e67bfae",
   "metadata": {},
   "source": [
    "3. Definiere die Leistung der Einträge, in denen ein „Yes“ eingetragen ist, zu 600 kW.\n",
    "\n",
    "_Hier nutzen wir eine eifache .replace Funktion von pandas._"
   ]
  },
  {
   "cell_type": "code",
   "execution_count": 3,
   "id": "b8357697",
   "metadata": {},
   "outputs": [
    {
     "name": "stdout",
     "output_type": "stream",
     "text": [
      "     Energiequelle Leistung in kW\n",
      "4652        biogas            600\n",
      "3022        biogas            NaN\n",
      "3021        biogas            NaN\n",
      "3020        biogas            NaN\n",
      "3018        biogas            NaN\n",
      "...            ...            ...\n",
      "2994           NaN            NaN\n",
      "2995           NaN            NaN\n",
      "3334           NaN            NaN\n",
      "3529           NaN            NaN\n",
      "4549           NaN            NaN\n",
      "\n",
      "[5107 rows x 2 columns]\n"
     ]
    }
   ],
   "source": [
    "data = data.replace(to_replace = 'yes', value = 600)\n",
    "\n",
    "print(data)"
   ]
  },
  {
   "cell_type": "markdown",
   "id": "8545bd27",
   "metadata": {},
   "source": [
    "4. Lösche die Einträge, in denen keine Leistung angegeben ist oder etwas Anderes steht.\n",
    "\n",
    "_Hier werden in der ersten Zeile werden alle Werte in \"Leistung in kW\" zu Zahlen umgewandelt. Datentypen die keine Zahlen sind werden mit \"errors = 'coerce'\" in NaN-Einträge verwandelt._\n",
    "\n",
    "_Diese können dann mit \"dropna()\" zusammen mit den vorigen NaN-Einträgen aus dem DataFrame genommen_"
   ]
  },
  {
   "cell_type": "code",
   "execution_count": 4,
   "id": "6743f59b",
   "metadata": {},
   "outputs": [
    {
     "name": "stdout",
     "output_type": "stream",
     "text": [
      "     Energiequelle  Leistung in kW\n",
      "4652        biogas           600.0\n",
      "2432        biogas           250.0\n",
      "2427        biogas           901.0\n",
      "2424        biogas           889.0\n",
      "2407        biogas           330.0\n",
      "...            ...             ...\n",
      "1915          wind          3200.0\n",
      "1914          wind          3200.0\n",
      "1912          wind          3200.0\n",
      "1913          wind          3200.0\n",
      "5106          wind           850.0\n",
      "\n",
      "[2762 rows x 2 columns]\n"
     ]
    }
   ],
   "source": [
    "#test\n",
    "#data['Energiequelle'] = pd.to_numeric(data.iloc[:,0], errors = 'coerce')\n",
    "#print(data)\n",
    "\n",
    "data['Leistung in kW'] = pd.to_numeric(data.iloc[:,1], errors = 'coerce')\n",
    "data = data.dropna()\n",
    "print(data)\n",
    "\n"
   ]
  },
  {
   "cell_type": "markdown",
   "id": "d6cbf619",
   "metadata": {},
   "source": [
    "5. Speichere die unterschiedlichen Energiequellen jeweils in ein eigenes DataFrame.\n",
    "\n",
    "_Hier wurde erstmal kontrolliert welche Energiequellen im DataFrame noch übrig bleiben, und wie viele Einträge Sie haben um danach das Ergebniss zu überprüfen._\n",
    "\n",
    "_Um Schreibarbeit zu sparen werden die einzelnen DataFrames für unterschiedliche Energiequellen in einer leeren Liste gespeichert und mit einer for-Schleife extrahiert._\n",
    "\n",
    "_Dabei benutzen wir wieder \"value_counts()\" , da der index davon den Energiequellen entspricht. Das erspart uns eine extra Liste zu erstellen für das filtrieren der rows._"
   ]
  },
  {
   "cell_type": "code",
   "execution_count": 5,
   "id": "b5044dd9",
   "metadata": {},
   "outputs": [
    {
     "name": "stdout",
     "output_type": "stream",
     "text": [
      "wind       2379\n",
      "solar       297\n",
      "biogas       25\n",
      "gas          23\n",
      "biomass      23\n",
      "hydro         4\n",
      "waste         4\n",
      "coal          4\n",
      "oil           2\n",
      "nuclear       1\n",
      "Name: Energiequelle, dtype: int64\n",
      "     Energiequelle  Leistung in kW\n",
      "2852          wind           600.0\n",
      "2851          wind           600.0\n",
      "2850          wind           600.0\n",
      "2849          wind           600.0\n",
      "2853          wind           600.0\n",
      "...            ...             ...\n",
      "1915          wind          3200.0\n",
      "1914          wind          3200.0\n",
      "1912          wind          3200.0\n",
      "1913          wind          3200.0\n",
      "5106          wind           850.0\n",
      "\n",
      "[2379 rows x 2 columns]\n"
     ]
    }
   ],
   "source": [
    "print(data['Energiequelle'].value_counts())\n",
    "\n",
    "#test = data.loc[data['Energiequelle'] == data['Energiequelle'].value_counts().index[0]]\n",
    "#print(test)\n",
    "\n",
    "dt = { }\n",
    "\n",
    "for x in range(len(data['Energiequelle'].value_counts())):\n",
    "    dt[x] = data.loc[data['Energiequelle'] == data['Energiequelle'].value_counts().index[x]]\n",
    "    \n",
    "print (dt[0])"
   ]
  },
  {
   "cell_type": "markdown",
   "id": "6071f397",
   "metadata": {},
   "source": [
    "6. Plotte die Leistung der Energiequelle „gas“ in Abhängigkeit von der Anzahl der Einträge als Graph (z.B. als Balkendiagramm) und speichere sie als jpg/png-Grafik.\n",
    "\n",
    "_Wir importieren matplotlib um einen schöneren plot herzustellen._\n",
    "\n"
   ]
  },
  {
   "cell_type": "code",
   "execution_count": 43,
   "id": "003a2d7d",
   "metadata": {},
   "outputs": [
    {
     "name": "stdout",
     "output_type": "stream",
     "text": [
      "     Energiequelle  Leistung in kW\n",
      "1991           gas           600.0\n",
      "2264           gas           600.0\n",
      "2604           gas           600.0\n",
      "3441           gas           440.0\n",
      "3440           gas           440.0\n",
      "3438           gas           440.0\n",
      "1990           gas           600.0\n",
      "1241           gas            10.0\n",
      "1863           gas             2.0\n",
      "1698           gas             2.0\n",
      "4242           gas           420.0\n",
      "1641           gas           600.0\n",
      "1640           gas           600.0\n",
      "797            gas             1.0\n",
      "796            gas           600.0\n",
      "795            gas           600.0\n",
      "794            gas           600.0\n",
      "1597           gas             2.0\n",
      "1599           gas             2.0\n",
      "1596           gas           800.0\n",
      "2662           gas           600.0\n",
      "3343           gas             2.0\n",
      "2390           gas           600.0\n"
     ]
    },
    {
     "data": {
      "image/png": "[encoded data removed]",
      "text/plain": [
       "<Figure size 432x288 with 1 Axes>"
      ]
     },
     "metadata": {
      "needs_background": "light"
     },
     "output_type": "display_data"
    },
    {
     "data": {
      "text/plain": [
       "<Figure size 432x288 with 0 Axes>"
      ]
     },
     "metadata": {},
     "output_type": "display_data"
    }
   ],
   "source": [
    "import matplotlib.pyplot as plt\n",
    "\n",
    "print(dt[3])\n",
    "\n",
    "gas = dt[3].sort_values(by=['Leistung in kW']).reset_index(drop = True)\n",
    "\n",
    "#das ist nur um den plot schön zu machen\n",
    "#colormap aussuchen:\n",
    "cmap = plt.get_cmap('RdYlGn')\n",
    "\n",
    "#plot und axis erstellen\n",
    "fig, ax = plt.subplots()\n",
    "#grid für axis erstellen und hinter dem plot ziehen damit es verständlicher ist\n",
    "ax.grid(axis = 'y', linestyle='dashed')\n",
    "ax.set_axisbelow(True)\n",
    "#bar-plot erstellen, mit colormap die vom Wert abhängt\n",
    "bars = ax.bar(gas.index, gas['Leistung in kW'], color=[cmap(i/(gas['Leistung in kW'].max())) for i in gas['Leistung in kW']])\n",
    "\n",
    "#plot zeigen und speichern\n",
    "plt.show()\n",
    "plt.savefig('data/gas_plot.png')\n"
   ]
  },
  {
   "cell_type": "code",
   "execution_count": null,
   "id": "3ae6d4a9",
   "metadata": {
    "scrolled": true
   },
   "outputs": [],
   "source": []
  },
  {
   "cell_type": "code",
   "execution_count": null,
   "id": "a92aafc8",
   "metadata": {},
   "outputs": [],
   "source": []
  }
 ],
 "metadata": {
  "kernelspec": {
   "display_name": "Python 3",
   "language": "python",
   "name": "python3"
  },
  "language_info": {
   "codemirror_mode": {
    "name": "ipython",
    "version": 3
   },
   "file_extension": ".py",
   "mimetype": "text/x-python",
   "name": "python",
   "nbconvert_exporter": "python",
   "pygments_lexer": "ipython3",
   "version": "3.8.8"
  }
 },
 "nbformat": 4,
 "nbformat_minor": 5
}
